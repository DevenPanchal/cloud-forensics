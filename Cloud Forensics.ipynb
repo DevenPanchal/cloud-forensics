{
 "cells": [
  {
   "cell_type": "code",
   "execution_count": 57,
   "id": "f77cd00e",
   "metadata": {},
   "outputs": [],
   "source": [
    "import pandas as pd\n",
    "import os\n",
    "import numpy as np\n",
    "from tensorflow.keras.models import Sequential\n",
    "from tensorflow.keras.layers import Dense\n",
    "from tensorflow.keras.layers import Dropout\n",
    "from sklearn.model_selection import cross_val_score\n",
    "from sklearn.preprocessing import LabelEncoder\n",
    "from sklearn.preprocessing import StandardScaler\n",
    "from sklearn.pipeline import Pipeline\n",
    "\n",
    "from matplotlib import pyplot as plt"
   ]
  },
  {
   "cell_type": "code",
   "execution_count": 58,
   "id": "75e58543",
   "metadata": {},
   "outputs": [],
   "source": [
    "df = pd.read_csv(r'C:\\Users\\deven\\Downloads\\VMResourceUtilizationSlope.csv')"
   ]
  },
  {
   "cell_type": "code",
   "execution_count": 59,
   "id": "abd8eccb",
   "metadata": {},
   "outputs": [
    {
     "data": {
      "text/html": [
       "<div>\n",
       "<style scoped>\n",
       "    .dataframe tbody tr th:only-of-type {\n",
       "        vertical-align: middle;\n",
       "    }\n",
       "\n",
       "    .dataframe tbody tr th {\n",
       "        vertical-align: top;\n",
       "    }\n",
       "\n",
       "    .dataframe thead th {\n",
       "        text-align: right;\n",
       "    }\n",
       "</style>\n",
       "<table border=\"1\" class=\"dataframe\">\n",
       "  <thead>\n",
       "    <tr style=\"text-align: right;\">\n",
       "      <th></th>\n",
       "      <th>LAST_POLL</th>\n",
       "      <th>VMID</th>\n",
       "      <th>UUID</th>\n",
       "      <th>dom</th>\n",
       "      <th>rxbytes_slope</th>\n",
       "      <th>rxpackets_slope</th>\n",
       "      <th>rxerrors_slope</th>\n",
       "      <th>rxdrops_slope</th>\n",
       "      <th>txbytes_slope</th>\n",
       "      <th>txpackets_slope</th>\n",
       "      <th>...</th>\n",
       "      <th>vdard_bytes_slope</th>\n",
       "      <th>vdawr_reqs_slope</th>\n",
       "      <th>vdawr_bytes_slope</th>\n",
       "      <th>vdaerror_slope</th>\n",
       "      <th>hdard_req_slope</th>\n",
       "      <th>hdard_bytes_slope</th>\n",
       "      <th>hdawr_reqs_slope</th>\n",
       "      <th>hdawr_bytes_slope</th>\n",
       "      <th>hdaerror_slope</th>\n",
       "      <th>Status</th>\n",
       "    </tr>\n",
       "  </thead>\n",
       "  <tbody>\n",
       "    <tr>\n",
       "      <th>0</th>\n",
       "      <td>1604455173</td>\n",
       "      <td>7</td>\n",
       "      <td>\"2bc1fde1-28d9-454e-8029-21a138714234\"</td>\n",
       "      <td>one-33</td>\n",
       "      <td>88.2065</td>\n",
       "      <td>30.1414</td>\n",
       "      <td>0</td>\n",
       "      <td>0</td>\n",
       "      <td>79.8981</td>\n",
       "      <td>5.5275</td>\n",
       "      <td>...</td>\n",
       "      <td>0.0</td>\n",
       "      <td>24.3045</td>\n",
       "      <td>89.9850</td>\n",
       "      <td>0</td>\n",
       "      <td>0.0</td>\n",
       "      <td>0.0</td>\n",
       "      <td>0</td>\n",
       "      <td>0</td>\n",
       "      <td>0</td>\n",
       "      <td>Normal</td>\n",
       "    </tr>\n",
       "    <tr>\n",
       "      <th>1</th>\n",
       "      <td>1604455142</td>\n",
       "      <td>7</td>\n",
       "      <td>\"2bc1fde1-28d9-454e-8029-21a138714234\"</td>\n",
       "      <td>one-33</td>\n",
       "      <td>87.8708</td>\n",
       "      <td>27.3499</td>\n",
       "      <td>0</td>\n",
       "      <td>0</td>\n",
       "      <td>0.0000</td>\n",
       "      <td>0.0000</td>\n",
       "      <td>...</td>\n",
       "      <td>0.0</td>\n",
       "      <td>5.9061</td>\n",
       "      <td>89.8986</td>\n",
       "      <td>0</td>\n",
       "      <td>0.0</td>\n",
       "      <td>0.0</td>\n",
       "      <td>0</td>\n",
       "      <td>0</td>\n",
       "      <td>0</td>\n",
       "      <td>Normal</td>\n",
       "    </tr>\n",
       "    <tr>\n",
       "      <th>2</th>\n",
       "      <td>1604455113</td>\n",
       "      <td>7</td>\n",
       "      <td>\"2bc1fde1-28d9-454e-8029-21a138714234\"</td>\n",
       "      <td>one-33</td>\n",
       "      <td>87.8865</td>\n",
       "      <td>27.2996</td>\n",
       "      <td>0</td>\n",
       "      <td>0</td>\n",
       "      <td>0.0000</td>\n",
       "      <td>0.0000</td>\n",
       "      <td>...</td>\n",
       "      <td>0.0</td>\n",
       "      <td>32.8285</td>\n",
       "      <td>89.9897</td>\n",
       "      <td>0</td>\n",
       "      <td>0.0</td>\n",
       "      <td>0.0</td>\n",
       "      <td>0</td>\n",
       "      <td>0</td>\n",
       "      <td>0</td>\n",
       "      <td>Normal</td>\n",
       "    </tr>\n",
       "    <tr>\n",
       "      <th>3</th>\n",
       "      <td>1604455082</td>\n",
       "      <td>7</td>\n",
       "      <td>\"2bc1fde1-28d9-454e-8029-21a138714234\"</td>\n",
       "      <td>one-33</td>\n",
       "      <td>87.8760</td>\n",
       "      <td>27.4076</td>\n",
       "      <td>0</td>\n",
       "      <td>0</td>\n",
       "      <td>0.0000</td>\n",
       "      <td>0.0000</td>\n",
       "      <td>...</td>\n",
       "      <td>0.0</td>\n",
       "      <td>4.2364</td>\n",
       "      <td>89.8741</td>\n",
       "      <td>0</td>\n",
       "      <td>0.0</td>\n",
       "      <td>0.0</td>\n",
       "      <td>0</td>\n",
       "      <td>0</td>\n",
       "      <td>0</td>\n",
       "      <td>Normal</td>\n",
       "    </tr>\n",
       "    <tr>\n",
       "      <th>4</th>\n",
       "      <td>1604455055</td>\n",
       "      <td>7</td>\n",
       "      <td>\"2bc1fde1-28d9-454e-8029-21a138714234\"</td>\n",
       "      <td>one-33</td>\n",
       "      <td>87.7241</td>\n",
       "      <td>25.8210</td>\n",
       "      <td>0</td>\n",
       "      <td>0</td>\n",
       "      <td>0.0000</td>\n",
       "      <td>0.0000</td>\n",
       "      <td>...</td>\n",
       "      <td>0.0</td>\n",
       "      <td>22.7510</td>\n",
       "      <td>89.9864</td>\n",
       "      <td>0</td>\n",
       "      <td>0.0</td>\n",
       "      <td>0.0</td>\n",
       "      <td>0</td>\n",
       "      <td>0</td>\n",
       "      <td>0</td>\n",
       "      <td>Normal</td>\n",
       "    </tr>\n",
       "  </tbody>\n",
       "</table>\n",
       "<p>5 rows × 44 columns</p>\n",
       "</div>"
      ],
      "text/plain": [
       "    LAST_POLL  VMID                                    UUID     dom  \\\n",
       "0  1604455173     7  \"2bc1fde1-28d9-454e-8029-21a138714234\"  one-33   \n",
       "1  1604455142     7  \"2bc1fde1-28d9-454e-8029-21a138714234\"  one-33   \n",
       "2  1604455113     7  \"2bc1fde1-28d9-454e-8029-21a138714234\"  one-33   \n",
       "3  1604455082     7  \"2bc1fde1-28d9-454e-8029-21a138714234\"  one-33   \n",
       "4  1604455055     7  \"2bc1fde1-28d9-454e-8029-21a138714234\"  one-33   \n",
       "\n",
       "   rxbytes_slope  rxpackets_slope  rxerrors_slope  rxdrops_slope  \\\n",
       "0        88.2065          30.1414               0              0   \n",
       "1        87.8708          27.3499               0              0   \n",
       "2        87.8865          27.2996               0              0   \n",
       "3        87.8760          27.4076               0              0   \n",
       "4        87.7241          25.8210               0              0   \n",
       "\n",
       "   txbytes_slope  txpackets_slope  ...  vdard_bytes_slope  vdawr_reqs_slope  \\\n",
       "0        79.8981           5.5275  ...                0.0           24.3045   \n",
       "1         0.0000           0.0000  ...                0.0            5.9061   \n",
       "2         0.0000           0.0000  ...                0.0           32.8285   \n",
       "3         0.0000           0.0000  ...                0.0            4.2364   \n",
       "4         0.0000           0.0000  ...                0.0           22.7510   \n",
       "\n",
       "   vdawr_bytes_slope  vdaerror_slope  hdard_req_slope  hdard_bytes_slope  \\\n",
       "0            89.9850               0              0.0                0.0   \n",
       "1            89.8986               0              0.0                0.0   \n",
       "2            89.9897               0              0.0                0.0   \n",
       "3            89.8741               0              0.0                0.0   \n",
       "4            89.9864               0              0.0                0.0   \n",
       "\n",
       "   hdawr_reqs_slope  hdawr_bytes_slope  hdaerror_slope  Status  \n",
       "0                 0                  0               0  Normal  \n",
       "1                 0                  0               0  Normal  \n",
       "2                 0                  0               0  Normal  \n",
       "3                 0                  0               0  Normal  \n",
       "4                 0                  0               0  Normal  \n",
       "\n",
       "[5 rows x 44 columns]"
      ]
     },
     "execution_count": 59,
     "metadata": {},
     "output_type": "execute_result"
    }
   ],
   "source": [
    "df.head()"
   ]
  },
  {
   "cell_type": "code",
   "execution_count": 60,
   "id": "ae3c7f61",
   "metadata": {},
   "outputs": [
    {
     "data": {
      "text/html": [
       "<div>\n",
       "<style scoped>\n",
       "    .dataframe tbody tr th:only-of-type {\n",
       "        vertical-align: middle;\n",
       "    }\n",
       "\n",
       "    .dataframe tbody tr th {\n",
       "        vertical-align: top;\n",
       "    }\n",
       "\n",
       "    .dataframe thead th {\n",
       "        text-align: right;\n",
       "    }\n",
       "</style>\n",
       "<table border=\"1\" class=\"dataframe\">\n",
       "  <thead>\n",
       "    <tr style=\"text-align: right;\">\n",
       "      <th></th>\n",
       "      <th>LAST_POLL</th>\n",
       "      <th>VMID</th>\n",
       "      <th>rxbytes_slope</th>\n",
       "      <th>rxpackets_slope</th>\n",
       "      <th>rxerrors_slope</th>\n",
       "      <th>rxdrops_slope</th>\n",
       "      <th>txbytes_slope</th>\n",
       "      <th>txpackets_slope</th>\n",
       "      <th>txerrors_slope</th>\n",
       "      <th>txdrops_slope</th>\n",
       "      <th>...</th>\n",
       "      <th>vdard_req_slope</th>\n",
       "      <th>vdard_bytes_slope</th>\n",
       "      <th>vdawr_reqs_slope</th>\n",
       "      <th>vdawr_bytes_slope</th>\n",
       "      <th>vdaerror_slope</th>\n",
       "      <th>hdard_req_slope</th>\n",
       "      <th>hdard_bytes_slope</th>\n",
       "      <th>hdawr_reqs_slope</th>\n",
       "      <th>hdawr_bytes_slope</th>\n",
       "      <th>hdaerror_slope</th>\n",
       "    </tr>\n",
       "  </thead>\n",
       "  <tbody>\n",
       "    <tr>\n",
       "      <th>count</th>\n",
       "      <td>9.594000e+03</td>\n",
       "      <td>9594.000000</td>\n",
       "      <td>9594.000000</td>\n",
       "      <td>9594.000000</td>\n",
       "      <td>9594.0</td>\n",
       "      <td>9594.0</td>\n",
       "      <td>9594.000000</td>\n",
       "      <td>9594.000000</td>\n",
       "      <td>9594.0</td>\n",
       "      <td>9594.0</td>\n",
       "      <td>...</td>\n",
       "      <td>9594.000000</td>\n",
       "      <td>9594.000000</td>\n",
       "      <td>9594.000000</td>\n",
       "      <td>9594.000000</td>\n",
       "      <td>9594.0</td>\n",
       "      <td>9594.000000</td>\n",
       "      <td>9594.000000</td>\n",
       "      <td>9594.0</td>\n",
       "      <td>9594.0</td>\n",
       "      <td>9594.0</td>\n",
       "    </tr>\n",
       "    <tr>\n",
       "      <th>mean</th>\n",
       "      <td>1.604482e+09</td>\n",
       "      <td>7.551178</td>\n",
       "      <td>88.237795</td>\n",
       "      <td>35.454518</td>\n",
       "      <td>0.0</td>\n",
       "      <td>0.0</td>\n",
       "      <td>31.755948</td>\n",
       "      <td>22.272845</td>\n",
       "      <td>0.0</td>\n",
       "      <td>0.0</td>\n",
       "      <td>...</td>\n",
       "      <td>0.869522</td>\n",
       "      <td>2.360632</td>\n",
       "      <td>31.607359</td>\n",
       "      <td>80.303610</td>\n",
       "      <td>0.0</td>\n",
       "      <td>0.024526</td>\n",
       "      <td>0.056261</td>\n",
       "      <td>0.0</td>\n",
       "      <td>0.0</td>\n",
       "      <td>0.0</td>\n",
       "    </tr>\n",
       "    <tr>\n",
       "      <th>std</th>\n",
       "      <td>8.162846e+04</td>\n",
       "      <td>1.731400</td>\n",
       "      <td>0.779002</td>\n",
       "      <td>18.590801</td>\n",
       "      <td>0.0</td>\n",
       "      <td>0.0</td>\n",
       "      <td>41.176777</td>\n",
       "      <td>36.895174</td>\n",
       "      <td>0.0</td>\n",
       "      <td>0.0</td>\n",
       "      <td>...</td>\n",
       "      <td>7.763400</td>\n",
       "      <td>14.373804</td>\n",
       "      <td>27.642737</td>\n",
       "      <td>27.866019</td>\n",
       "      <td>0.0</td>\n",
       "      <td>1.105076</td>\n",
       "      <td>2.249146</td>\n",
       "      <td>0.0</td>\n",
       "      <td>0.0</td>\n",
       "      <td>0.0</td>\n",
       "    </tr>\n",
       "    <tr>\n",
       "      <th>min</th>\n",
       "      <td>1.604406e+09</td>\n",
       "      <td>1.000000</td>\n",
       "      <td>58.392500</td>\n",
       "      <td>1.789900</td>\n",
       "      <td>0.0</td>\n",
       "      <td>0.0</td>\n",
       "      <td>0.000000</td>\n",
       "      <td>0.000000</td>\n",
       "      <td>0.0</td>\n",
       "      <td>0.0</td>\n",
       "      <td>...</td>\n",
       "      <td>0.000000</td>\n",
       "      <td>0.000000</td>\n",
       "      <td>0.000000</td>\n",
       "      <td>0.000000</td>\n",
       "      <td>0.0</td>\n",
       "      <td>0.000000</td>\n",
       "      <td>0.000000</td>\n",
       "      <td>0.0</td>\n",
       "      <td>0.0</td>\n",
       "      <td>0.0</td>\n",
       "    </tr>\n",
       "    <tr>\n",
       "      <th>25%</th>\n",
       "      <td>1.604424e+09</td>\n",
       "      <td>6.000000</td>\n",
       "      <td>87.797400</td>\n",
       "      <td>26.565100</td>\n",
       "      <td>0.0</td>\n",
       "      <td>0.0</td>\n",
       "      <td>0.000000</td>\n",
       "      <td>0.000000</td>\n",
       "      <td>0.0</td>\n",
       "      <td>0.0</td>\n",
       "      <td>...</td>\n",
       "      <td>0.000000</td>\n",
       "      <td>0.000000</td>\n",
       "      <td>11.309900</td>\n",
       "      <td>89.963100</td>\n",
       "      <td>0.0</td>\n",
       "      <td>0.000000</td>\n",
       "      <td>0.000000</td>\n",
       "      <td>0.0</td>\n",
       "      <td>0.0</td>\n",
       "      <td>0.0</td>\n",
       "    </tr>\n",
       "    <tr>\n",
       "      <th>50%</th>\n",
       "      <td>1.604442e+09</td>\n",
       "      <td>8.000000</td>\n",
       "      <td>87.954600</td>\n",
       "      <td>28.072500</td>\n",
       "      <td>0.0</td>\n",
       "      <td>0.0</td>\n",
       "      <td>0.000000</td>\n",
       "      <td>0.000000</td>\n",
       "      <td>0.0</td>\n",
       "      <td>0.0</td>\n",
       "      <td>...</td>\n",
       "      <td>0.000000</td>\n",
       "      <td>0.000000</td>\n",
       "      <td>18.434900</td>\n",
       "      <td>89.983900</td>\n",
       "      <td>0.0</td>\n",
       "      <td>0.000000</td>\n",
       "      <td>0.000000</td>\n",
       "      <td>0.0</td>\n",
       "      <td>0.0</td>\n",
       "      <td>0.0</td>\n",
       "    </tr>\n",
       "    <tr>\n",
       "      <th>75%</th>\n",
       "      <td>1.604589e+09</td>\n",
       "      <td>9.000000</td>\n",
       "      <td>88.264300</td>\n",
       "      <td>30.963800</td>\n",
       "      <td>0.0</td>\n",
       "      <td>0.0</td>\n",
       "      <td>81.275200</td>\n",
       "      <td>23.782000</td>\n",
       "      <td>0.0</td>\n",
       "      <td>0.0</td>\n",
       "      <td>...</td>\n",
       "      <td>0.000000</td>\n",
       "      <td>0.000000</td>\n",
       "      <td>62.650100</td>\n",
       "      <td>89.995100</td>\n",
       "      <td>0.0</td>\n",
       "      <td>0.000000</td>\n",
       "      <td>0.000000</td>\n",
       "      <td>0.0</td>\n",
       "      <td>0.0</td>\n",
       "      <td>0.0</td>\n",
       "    </tr>\n",
       "    <tr>\n",
       "      <th>max</th>\n",
       "      <td>1.604636e+09</td>\n",
       "      <td>10.000000</td>\n",
       "      <td>89.999900</td>\n",
       "      <td>89.915700</td>\n",
       "      <td>0.0</td>\n",
       "      <td>0.0</td>\n",
       "      <td>90.000000</td>\n",
       "      <td>89.998200</td>\n",
       "      <td>0.0</td>\n",
       "      <td>0.0</td>\n",
       "      <td>...</td>\n",
       "      <td>89.593000</td>\n",
       "      <td>90.000000</td>\n",
       "      <td>89.083800</td>\n",
       "      <td>90.000000</td>\n",
       "      <td>0.0</td>\n",
       "      <td>64.840700</td>\n",
       "      <td>89.992100</td>\n",
       "      <td>0.0</td>\n",
       "      <td>0.0</td>\n",
       "      <td>0.0</td>\n",
       "    </tr>\n",
       "  </tbody>\n",
       "</table>\n",
       "<p>8 rows × 41 columns</p>\n",
       "</div>"
      ],
      "text/plain": [
       "          LAST_POLL         VMID  rxbytes_slope  rxpackets_slope  \\\n",
       "count  9.594000e+03  9594.000000    9594.000000      9594.000000   \n",
       "mean   1.604482e+09     7.551178      88.237795        35.454518   \n",
       "std    8.162846e+04     1.731400       0.779002        18.590801   \n",
       "min    1.604406e+09     1.000000      58.392500         1.789900   \n",
       "25%    1.604424e+09     6.000000      87.797400        26.565100   \n",
       "50%    1.604442e+09     8.000000      87.954600        28.072500   \n",
       "75%    1.604589e+09     9.000000      88.264300        30.963800   \n",
       "max    1.604636e+09    10.000000      89.999900        89.915700   \n",
       "\n",
       "       rxerrors_slope  rxdrops_slope  txbytes_slope  txpackets_slope  \\\n",
       "count          9594.0         9594.0    9594.000000      9594.000000   \n",
       "mean              0.0            0.0      31.755948        22.272845   \n",
       "std               0.0            0.0      41.176777        36.895174   \n",
       "min               0.0            0.0       0.000000         0.000000   \n",
       "25%               0.0            0.0       0.000000         0.000000   \n",
       "50%               0.0            0.0       0.000000         0.000000   \n",
       "75%               0.0            0.0      81.275200        23.782000   \n",
       "max               0.0            0.0      90.000000        89.998200   \n",
       "\n",
       "       txerrors_slope  txdrops_slope  ...  vdard_req_slope  vdard_bytes_slope  \\\n",
       "count          9594.0         9594.0  ...      9594.000000        9594.000000   \n",
       "mean              0.0            0.0  ...         0.869522           2.360632   \n",
       "std               0.0            0.0  ...         7.763400          14.373804   \n",
       "min               0.0            0.0  ...         0.000000           0.000000   \n",
       "25%               0.0            0.0  ...         0.000000           0.000000   \n",
       "50%               0.0            0.0  ...         0.000000           0.000000   \n",
       "75%               0.0            0.0  ...         0.000000           0.000000   \n",
       "max               0.0            0.0  ...        89.593000          90.000000   \n",
       "\n",
       "       vdawr_reqs_slope  vdawr_bytes_slope  vdaerror_slope  hdard_req_slope  \\\n",
       "count       9594.000000        9594.000000          9594.0      9594.000000   \n",
       "mean          31.607359          80.303610             0.0         0.024526   \n",
       "std           27.642737          27.866019             0.0         1.105076   \n",
       "min            0.000000           0.000000             0.0         0.000000   \n",
       "25%           11.309900          89.963100             0.0         0.000000   \n",
       "50%           18.434900          89.983900             0.0         0.000000   \n",
       "75%           62.650100          89.995100             0.0         0.000000   \n",
       "max           89.083800          90.000000             0.0        64.840700   \n",
       "\n",
       "       hdard_bytes_slope  hdawr_reqs_slope  hdawr_bytes_slope  hdaerror_slope  \n",
       "count        9594.000000            9594.0             9594.0          9594.0  \n",
       "mean            0.056261               0.0                0.0             0.0  \n",
       "std             2.249146               0.0                0.0             0.0  \n",
       "min             0.000000               0.0                0.0             0.0  \n",
       "25%             0.000000               0.0                0.0             0.0  \n",
       "50%             0.000000               0.0                0.0             0.0  \n",
       "75%             0.000000               0.0                0.0             0.0  \n",
       "max            89.992100               0.0                0.0             0.0  \n",
       "\n",
       "[8 rows x 41 columns]"
      ]
     },
     "execution_count": 60,
     "metadata": {},
     "output_type": "execute_result"
    }
   ],
   "source": [
    "df.describe()"
   ]
  },
  {
   "cell_type": "code",
   "execution_count": 61,
   "id": "28740902",
   "metadata": {},
   "outputs": [],
   "source": [
    "y = df['Status']\n",
    "\n",
    "X = df.drop(columns=['LAST_POLL', 'VMID','UUID','dom', 'Status'])\n",
    "X = X.astype(float)"
   ]
  },
  {
   "cell_type": "code",
   "execution_count": 62,
   "id": "d11bf8b7",
   "metadata": {},
   "outputs": [
    {
     "name": "stdout",
     "output_type": "stream",
     "text": [
      "<class 'pandas.core.frame.DataFrame'>\n",
      "RangeIndex: 9594 entries, 0 to 9593\n",
      "Data columns (total 39 columns):\n",
      " #   Column                    Non-Null Count  Dtype  \n",
      "---  ------                    --------------  -----  \n",
      " 0   rxbytes_slope             9594 non-null   float64\n",
      " 1   rxpackets_slope           9594 non-null   float64\n",
      " 2   rxerrors_slope            9594 non-null   float64\n",
      " 3   rxdrops_slope             9594 non-null   float64\n",
      " 4   txbytes_slope             9594 non-null   float64\n",
      " 5   txpackets_slope           9594 non-null   float64\n",
      " 6   txerrors_slope            9594 non-null   float64\n",
      " 7   txdrops_slope             9594 non-null   float64\n",
      " 8   timecpu_slope             9594 non-null   float64\n",
      " 9   timesys_slope             9594 non-null   float64\n",
      " 10  timeusr_slope             9594 non-null   float64\n",
      " 11  state_slope               9594 non-null   float64\n",
      " 12  memmax_slope              9594 non-null   float64\n",
      " 13  mem_slope                 9594 non-null   float64\n",
      " 14  cpus_slope                9594 non-null   float64\n",
      " 15  cputime_slope             9594 non-null   float64\n",
      " 16  memactual_slope           9594 non-null   float64\n",
      " 17  memswap_in_slope          9594 non-null   float64\n",
      " 18  memswap_out_slope         9594 non-null   float64\n",
      " 19  memmajor_fault_slope      9594 non-null   float64\n",
      " 20  memminor_fault_slope      9594 non-null   float64\n",
      " 21  memunused_slope           9594 non-null   float64\n",
      " 22  memavailable_slope        9594 non-null   float64\n",
      " 23  memusable_slope           9594 non-null   float64\n",
      " 24  memlast_update_slope      9594 non-null   float64\n",
      " 25  memdisk_cache_slope       9594 non-null   float64\n",
      " 26  memhugetlb_pgalloc_slope  9594 non-null   float64\n",
      " 27  memhugetlb_pgfail_slope   9594 non-null   float64\n",
      " 28  memrss_slope              9594 non-null   float64\n",
      " 29  vdard_req_slope           9594 non-null   float64\n",
      " 30  vdard_bytes_slope         9594 non-null   float64\n",
      " 31  vdawr_reqs_slope          9594 non-null   float64\n",
      " 32  vdawr_bytes_slope         9594 non-null   float64\n",
      " 33  vdaerror_slope            9594 non-null   float64\n",
      " 34  hdard_req_slope           9594 non-null   float64\n",
      " 35  hdard_bytes_slope         9594 non-null   float64\n",
      " 36  hdawr_reqs_slope          9594 non-null   float64\n",
      " 37  hdawr_bytes_slope         9594 non-null   float64\n",
      " 38  hdaerror_slope            9594 non-null   float64\n",
      "dtypes: float64(39)\n",
      "memory usage: 2.9 MB\n"
     ]
    }
   ],
   "source": [
    "X.info()"
   ]
  },
  {
   "cell_type": "code",
   "execution_count": 63,
   "id": "99f0f40b",
   "metadata": {},
   "outputs": [
    {
     "data": {
      "text/plain": [
       "0    Normal\n",
       "1    Normal\n",
       "2    Normal\n",
       "3    Normal\n",
       "4    Normal\n",
       "Name: Status, dtype: object"
      ]
     },
     "execution_count": 63,
     "metadata": {},
     "output_type": "execute_result"
    }
   ],
   "source": [
    "y.head()"
   ]
  },
  {
   "cell_type": "code",
   "execution_count": 64,
   "id": "9f137d2f",
   "metadata": {},
   "outputs": [
    {
     "data": {
      "text/html": [
       "<div>\n",
       "<style scoped>\n",
       "    .dataframe tbody tr th:only-of-type {\n",
       "        vertical-align: middle;\n",
       "    }\n",
       "\n",
       "    .dataframe tbody tr th {\n",
       "        vertical-align: top;\n",
       "    }\n",
       "\n",
       "    .dataframe thead th {\n",
       "        text-align: right;\n",
       "    }\n",
       "</style>\n",
       "<table border=\"1\" class=\"dataframe\">\n",
       "  <thead>\n",
       "    <tr style=\"text-align: right;\">\n",
       "      <th></th>\n",
       "      <th>rxbytes_slope</th>\n",
       "      <th>rxpackets_slope</th>\n",
       "      <th>rxerrors_slope</th>\n",
       "      <th>rxdrops_slope</th>\n",
       "      <th>txbytes_slope</th>\n",
       "      <th>txpackets_slope</th>\n",
       "      <th>txerrors_slope</th>\n",
       "      <th>txdrops_slope</th>\n",
       "      <th>timecpu_slope</th>\n",
       "      <th>timesys_slope</th>\n",
       "      <th>...</th>\n",
       "      <th>vdard_req_slope</th>\n",
       "      <th>vdard_bytes_slope</th>\n",
       "      <th>vdawr_reqs_slope</th>\n",
       "      <th>vdawr_bytes_slope</th>\n",
       "      <th>vdaerror_slope</th>\n",
       "      <th>hdard_req_slope</th>\n",
       "      <th>hdard_bytes_slope</th>\n",
       "      <th>hdawr_reqs_slope</th>\n",
       "      <th>hdawr_bytes_slope</th>\n",
       "      <th>hdaerror_slope</th>\n",
       "    </tr>\n",
       "  </thead>\n",
       "  <tbody>\n",
       "    <tr>\n",
       "      <th>0</th>\n",
       "      <td>88.2065</td>\n",
       "      <td>30.1414</td>\n",
       "      <td>0.0</td>\n",
       "      <td>0.0</td>\n",
       "      <td>79.8981</td>\n",
       "      <td>5.5275</td>\n",
       "      <td>0.0</td>\n",
       "      <td>0.0</td>\n",
       "      <td>0.0000</td>\n",
       "      <td>0.0</td>\n",
       "      <td>...</td>\n",
       "      <td>0.0</td>\n",
       "      <td>0.0</td>\n",
       "      <td>24.3045</td>\n",
       "      <td>89.9850</td>\n",
       "      <td>0.0</td>\n",
       "      <td>0.0</td>\n",
       "      <td>0.0</td>\n",
       "      <td>0.0</td>\n",
       "      <td>0.0</td>\n",
       "      <td>0.0</td>\n",
       "    </tr>\n",
       "    <tr>\n",
       "      <th>1</th>\n",
       "      <td>87.8708</td>\n",
       "      <td>27.3499</td>\n",
       "      <td>0.0</td>\n",
       "      <td>0.0</td>\n",
       "      <td>0.0000</td>\n",
       "      <td>0.0000</td>\n",
       "      <td>0.0</td>\n",
       "      <td>0.0</td>\n",
       "      <td>73.8278</td>\n",
       "      <td>0.0</td>\n",
       "      <td>...</td>\n",
       "      <td>0.0</td>\n",
       "      <td>0.0</td>\n",
       "      <td>5.9061</td>\n",
       "      <td>89.8986</td>\n",
       "      <td>0.0</td>\n",
       "      <td>0.0</td>\n",
       "      <td>0.0</td>\n",
       "      <td>0.0</td>\n",
       "      <td>0.0</td>\n",
       "      <td>0.0</td>\n",
       "    </tr>\n",
       "    <tr>\n",
       "      <th>2</th>\n",
       "      <td>87.8865</td>\n",
       "      <td>27.2996</td>\n",
       "      <td>0.0</td>\n",
       "      <td>0.0</td>\n",
       "      <td>0.0000</td>\n",
       "      <td>0.0000</td>\n",
       "      <td>0.0</td>\n",
       "      <td>0.0</td>\n",
       "      <td>0.0000</td>\n",
       "      <td>0.0</td>\n",
       "      <td>...</td>\n",
       "      <td>0.0</td>\n",
       "      <td>0.0</td>\n",
       "      <td>32.8285</td>\n",
       "      <td>89.9897</td>\n",
       "      <td>0.0</td>\n",
       "      <td>0.0</td>\n",
       "      <td>0.0</td>\n",
       "      <td>0.0</td>\n",
       "      <td>0.0</td>\n",
       "      <td>0.0</td>\n",
       "    </tr>\n",
       "    <tr>\n",
       "      <th>3</th>\n",
       "      <td>87.8760</td>\n",
       "      <td>27.4076</td>\n",
       "      <td>0.0</td>\n",
       "      <td>0.0</td>\n",
       "      <td>0.0000</td>\n",
       "      <td>0.0000</td>\n",
       "      <td>0.0</td>\n",
       "      <td>0.0</td>\n",
       "      <td>0.0000</td>\n",
       "      <td>0.0</td>\n",
       "      <td>...</td>\n",
       "      <td>0.0</td>\n",
       "      <td>0.0</td>\n",
       "      <td>4.2364</td>\n",
       "      <td>89.8741</td>\n",
       "      <td>0.0</td>\n",
       "      <td>0.0</td>\n",
       "      <td>0.0</td>\n",
       "      <td>0.0</td>\n",
       "      <td>0.0</td>\n",
       "      <td>0.0</td>\n",
       "    </tr>\n",
       "    <tr>\n",
       "      <th>4</th>\n",
       "      <td>87.7241</td>\n",
       "      <td>25.8210</td>\n",
       "      <td>0.0</td>\n",
       "      <td>0.0</td>\n",
       "      <td>0.0000</td>\n",
       "      <td>0.0000</td>\n",
       "      <td>0.0</td>\n",
       "      <td>0.0</td>\n",
       "      <td>0.0000</td>\n",
       "      <td>0.0</td>\n",
       "      <td>...</td>\n",
       "      <td>0.0</td>\n",
       "      <td>0.0</td>\n",
       "      <td>22.7510</td>\n",
       "      <td>89.9864</td>\n",
       "      <td>0.0</td>\n",
       "      <td>0.0</td>\n",
       "      <td>0.0</td>\n",
       "      <td>0.0</td>\n",
       "      <td>0.0</td>\n",
       "      <td>0.0</td>\n",
       "    </tr>\n",
       "  </tbody>\n",
       "</table>\n",
       "<p>5 rows × 39 columns</p>\n",
       "</div>"
      ],
      "text/plain": [
       "   rxbytes_slope  rxpackets_slope  rxerrors_slope  rxdrops_slope  \\\n",
       "0        88.2065          30.1414             0.0            0.0   \n",
       "1        87.8708          27.3499             0.0            0.0   \n",
       "2        87.8865          27.2996             0.0            0.0   \n",
       "3        87.8760          27.4076             0.0            0.0   \n",
       "4        87.7241          25.8210             0.0            0.0   \n",
       "\n",
       "   txbytes_slope  txpackets_slope  txerrors_slope  txdrops_slope  \\\n",
       "0        79.8981           5.5275             0.0            0.0   \n",
       "1         0.0000           0.0000             0.0            0.0   \n",
       "2         0.0000           0.0000             0.0            0.0   \n",
       "3         0.0000           0.0000             0.0            0.0   \n",
       "4         0.0000           0.0000             0.0            0.0   \n",
       "\n",
       "   timecpu_slope  timesys_slope  ...  vdard_req_slope  vdard_bytes_slope  \\\n",
       "0         0.0000            0.0  ...              0.0                0.0   \n",
       "1        73.8278            0.0  ...              0.0                0.0   \n",
       "2         0.0000            0.0  ...              0.0                0.0   \n",
       "3         0.0000            0.0  ...              0.0                0.0   \n",
       "4         0.0000            0.0  ...              0.0                0.0   \n",
       "\n",
       "   vdawr_reqs_slope  vdawr_bytes_slope  vdaerror_slope  hdard_req_slope  \\\n",
       "0           24.3045            89.9850             0.0              0.0   \n",
       "1            5.9061            89.8986             0.0              0.0   \n",
       "2           32.8285            89.9897             0.0              0.0   \n",
       "3            4.2364            89.8741             0.0              0.0   \n",
       "4           22.7510            89.9864             0.0              0.0   \n",
       "\n",
       "   hdard_bytes_slope  hdawr_reqs_slope  hdawr_bytes_slope  hdaerror_slope  \n",
       "0                0.0               0.0                0.0             0.0  \n",
       "1                0.0               0.0                0.0             0.0  \n",
       "2                0.0               0.0                0.0             0.0  \n",
       "3                0.0               0.0                0.0             0.0  \n",
       "4                0.0               0.0                0.0             0.0  \n",
       "\n",
       "[5 rows x 39 columns]"
      ]
     },
     "execution_count": 64,
     "metadata": {},
     "output_type": "execute_result"
    }
   ],
   "source": [
    "X.head()"
   ]
  },
  {
   "cell_type": "code",
   "execution_count": 65,
   "id": "af17bb9e",
   "metadata": {},
   "outputs": [],
   "source": [
    "seed = 50  # so that the result is reproducible\n",
    "from sklearn.model_selection import train_test_split"
   ]
  },
  {
   "cell_type": "code",
   "execution_count": 66,
   "id": "d88dc19b",
   "metadata": {},
   "outputs": [],
   "source": [
    "X_train, X_test, y_train, y_test = train_test_split(X,y,test_size=0.333, random_state = seed)"
   ]
  },
  {
   "cell_type": "code",
   "execution_count": 67,
   "id": "0d160d14",
   "metadata": {},
   "outputs": [
    {
     "data": {
      "text/plain": [
       "array([1, 1, 1, ..., 0, 1, 1])"
      ]
     },
     "execution_count": 67,
     "metadata": {},
     "output_type": "execute_result"
    }
   ],
   "source": [
    "encoder = LabelEncoder()\n",
    "encoder.fit(y_train)\n",
    "encoded_y_train = encoder.transform(y_train)\n",
    "encoded_y_train"
   ]
  },
  {
   "cell_type": "markdown",
   "id": "9c7f7669",
   "metadata": {},
   "source": [
    "## Model 1: Printing class label using sigmoid activation and last layer with 1 neuron."
   ]
  },
  {
   "cell_type": "code",
   "execution_count": 68,
   "id": "00f01b87",
   "metadata": {},
   "outputs": [],
   "source": [
    "\n",
    "model = Sequential()\n",
    "model.add(Dense(156, input_dim=39, activation='relu'))\n",
    "model.add(Dense(78, input_dim=39, activation='relu'))\n",
    "model.add(Dense(39, input_dim=39, activation='relu'))\n",
    "model.add(Dropout(rate = 0.1))\n",
    "model.add(Dense(1, activation='sigmoid'))\n",
    "# Compile model\n",
    "model.compile(loss='binary_crossentropy', optimizer='adam', metrics=['accuracy'])\n"
   ]
  },
  {
   "cell_type": "code",
   "execution_count": 69,
   "id": "fe1b51b0",
   "metadata": {},
   "outputs": [],
   "source": [
    "history = model.fit(X_train, encoded_y_train, batch_size = 10, epochs = 100, verbose=False)"
   ]
  },
  {
   "cell_type": "code",
   "execution_count": 70,
   "id": "a593c008",
   "metadata": {},
   "outputs": [
    {
     "name": "stdout",
     "output_type": "stream",
     "text": [
      "Model: \"sequential_3\"\n",
      "_________________________________________________________________\n",
      " Layer (type)                Output Shape              Param #   \n",
      "=================================================================\n",
      " dense_12 (Dense)            (None, 156)               6240      \n",
      "                                                                 \n",
      " dense_13 (Dense)            (None, 78)                12246     \n",
      "                                                                 \n",
      " dense_14 (Dense)            (None, 39)                3081      \n",
      "                                                                 \n",
      " dropout_3 (Dropout)         (None, 39)                0         \n",
      "                                                                 \n",
      " dense_15 (Dense)            (None, 1)                 40        \n",
      "                                                                 \n",
      "=================================================================\n",
      "Total params: 21,607\n",
      "Trainable params: 21,607\n",
      "Non-trainable params: 0\n",
      "_________________________________________________________________\n"
     ]
    }
   ],
   "source": [
    "model.summary()"
   ]
  },
  {
   "cell_type": "code",
   "execution_count": 75,
   "id": "2819af3d",
   "metadata": {},
   "outputs": [
    {
     "data": {
      "text/plain": [
       "dict_keys(['loss', 'accuracy'])"
      ]
     },
     "execution_count": 75,
     "metadata": {},
     "output_type": "execute_result"
    }
   ],
   "source": [
    "history.history.keys()"
   ]
  },
  {
   "cell_type": "code",
   "execution_count": 76,
   "id": "4a21aa76",
   "metadata": {},
   "outputs": [
    {
     "data": {
      "image/png": "[encoded data removed]",
      "text/plain": [
       "<Figure size 432x288 with 1 Axes>"
      ]
     },
     "metadata": {
      "needs_background": "light"
     },
     "output_type": "display_data"
    }
   ],
   "source": [
    "plt.plot(history.history['accuracy'])\n",
    "plt.title('model accuracy')\n",
    "plt.ylabel('accuracy')\n",
    "plt.xlabel('epoch')\n",
    "plt.legend(['train', 'val'], loc='upper left')\n",
    "plt.show()"
   ]
  },
  {
   "cell_type": "code",
   "execution_count": 77,
   "id": "e51351bd",
   "metadata": {},
   "outputs": [
    {
     "data": {
      "image/png": "[encoded data removed]",
      "text/plain": [
       "<Figure size 432x288 with 1 Axes>"
      ]
     },
     "metadata": {
      "needs_background": "light"
     },
     "output_type": "display_data"
    }
   ],
   "source": [
    "plt.plot(history.history['loss'])\n",
    "plt.title('model loss')\n",
    "plt.ylabel('loss')\n",
    "plt.xlabel('epoch')\n",
    "plt.legend(['train', 'val'], loc='upper left')\n",
    "plt.show()"
   ]
  },
  {
   "cell_type": "markdown",
   "id": "9fbf38df",
   "metadata": {},
   "source": [
    "### Test Dataset Prediction with Model 1"
   ]
  },
  {
   "cell_type": "code",
   "execution_count": 78,
   "id": "a71a3780",
   "metadata": {},
   "outputs": [
    {
     "name": "stdout",
     "output_type": "stream",
     "text": [
      "<class 'numpy.ndarray'>\n",
      "1.0\n",
      "0.0\n"
     ]
    }
   ],
   "source": [
    "encoded_y_pred=model.predict(X_test)\n",
    "\n",
    "print(type(encoded_y_pred))\n",
    "print(encoded_y_pred.max())\n",
    "print(encoded_y_pred.min())"
   ]
  },
  {
   "cell_type": "markdown",
   "id": "c4b7341c",
   "metadata": {},
   "source": [
    "### Undertanding which class the LabelEncoder encoded as 0 and which as 1"
   ]
  },
  {
   "cell_type": "code",
   "execution_count": 79,
   "id": "9f9182e3",
   "metadata": {},
   "outputs": [
    {
     "data": {
      "text/plain": [
       "['Attack', 'Normal']"
      ]
     },
     "execution_count": 79,
     "metadata": {},
     "output_type": "execute_result"
    }
   ],
   "source": [
    "list(encoder.classes_)"
   ]
  },
  {
   "cell_type": "code",
   "execution_count": 80,
   "id": "df011676",
   "metadata": {},
   "outputs": [
    {
     "data": {
      "text/plain": [
       "array([1, 0])"
      ]
     },
     "execution_count": 80,
     "metadata": {},
     "output_type": "execute_result"
    }
   ],
   "source": [
    "encoder.transform(['Normal','Attack'])"
   ]
  },
  {
   "cell_type": "code",
   "execution_count": 81,
   "id": "95998dd0",
   "metadata": {},
   "outputs": [
    {
     "data": {
      "text/plain": [
       "array([[0],\n",
       "       [1],\n",
       "       [1],\n",
       "       ...,\n",
       "       [1],\n",
       "       [1],\n",
       "       [1]])"
      ]
     },
     "execution_count": 81,
     "metadata": {},
     "output_type": "execute_result"
    }
   ],
   "source": [
    "\n",
    "encoded_y_pred= encoded_y_pred.astype(int)\n",
    "\n",
    "encoded_y_pred\n"
   ]
  },
  {
   "cell_type": "code",
   "execution_count": 82,
   "id": "daf8164b",
   "metadata": {},
   "outputs": [
    {
     "name": "stderr",
     "output_type": "stream",
     "text": [
      "C:\\ProgramData\\Anaconda3\\lib\\site-packages\\sklearn\\utils\\validation.py:63: DataConversionWarning: A column-vector y was passed when a 1d array was expected. Please change the shape of y to (n_samples, ), for example using ravel().\n",
      "  return f(*args, **kwargs)\n"
     ]
    }
   ],
   "source": [
    "y_pred = encoder.inverse_transform(encoded_y_pred)"
   ]
  },
  {
   "cell_type": "markdown",
   "id": "b686a06f",
   "metadata": {},
   "source": [
    "### Evaluating Model 1"
   ]
  },
  {
   "cell_type": "code",
   "execution_count": 83,
   "id": "d860b762",
   "metadata": {},
   "outputs": [
    {
     "name": "stdout",
     "output_type": "stream",
     "text": [
      "Accuracy: 0.9902973395931143\n"
     ]
    }
   ],
   "source": [
    "from sklearn import metrics\n",
    "print(\"Accuracy:\",metrics.accuracy_score(y_test, y_pred))"
   ]
  },
  {
   "cell_type": "code",
   "execution_count": 84,
   "id": "dd2dcb81",
   "metadata": {},
   "outputs": [],
   "source": [
    "from sklearn.metrics import accuracy_score, confusion_matrix, precision_score, recall_score, roc_auc_score, roc_curve, f1_score"
   ]
  },
  {
   "cell_type": "code",
   "execution_count": 85,
   "id": "44d021ee",
   "metadata": {},
   "outputs": [
    {
     "name": "stdout",
     "output_type": "stream",
     "text": [
      "              precision    recall  f1-score   support\n",
      "\n",
      "      Attack       0.96      1.00      0.98       772\n",
      "      Normal       1.00      0.99      0.99      2423\n",
      "\n",
      "    accuracy                           0.99      3195\n",
      "   macro avg       0.98      0.99      0.99      3195\n",
      "weighted avg       0.99      0.99      0.99      3195\n",
      "\n"
     ]
    }
   ],
   "source": [
    "from sklearn.metrics import classification_report\n",
    "print(classification_report(y_test, y_pred))"
   ]
  },
  {
   "cell_type": "code",
   "execution_count": 86,
   "id": "5d09a421",
   "metadata": {},
   "outputs": [
    {
     "name": "stdout",
     "output_type": "stream",
     "text": [
      "[[ 772    0]\n",
      " [  31 2392]]\n"
     ]
    }
   ],
   "source": [
    "print(confusion_matrix(y_test,y_pred, labels=['Attack','Normal']))"
   ]
  },
  {
   "cell_type": "markdown",
   "id": "bba162c0",
   "metadata": {},
   "source": [
    "## Model 2: Printing probabilities/confidence using softmax activation and last layer with 2 neurons"
   ]
  },
  {
   "cell_type": "code",
   "execution_count": 89,
   "id": "261fa219",
   "metadata": {},
   "outputs": [],
   "source": [
    "model2 = Sequential()\n",
    "model2.add(Dense(156, input_dim=39, activation='relu'))\n",
    "model2.add(Dense(78, input_dim=39, activation='relu'))\n",
    "model2.add(Dense(39, input_dim=39, activation='relu'))\n",
    "model2.add(Dropout(rate = 0.1))\n",
    "model2.add(Dense(2, activation='softmax'))"
   ]
  },
  {
   "cell_type": "code",
   "execution_count": 90,
   "id": "53f31049",
   "metadata": {},
   "outputs": [],
   "source": [
    "model2.compile(loss='sparse_categorical_crossentropy',\n",
    "              optimizer='rmsprop',\n",
    "              metrics=['accuracy'])"
   ]
  },
  {
   "cell_type": "code",
   "execution_count": 91,
   "id": "7ce27ca3",
   "metadata": {},
   "outputs": [],
   "source": [
    "history2 = model2.fit(X_train, encoded_y_train, batch_size = 10, epochs = 100, verbose=False)"
   ]
  },
  {
   "cell_type": "code",
   "execution_count": 92,
   "id": "e98c2dd1",
   "metadata": {},
   "outputs": [
    {
     "name": "stdout",
     "output_type": "stream",
     "text": [
      "Model: \"sequential_6\"\n",
      "_________________________________________________________________\n",
      " Layer (type)                Output Shape              Param #   \n",
      "=================================================================\n",
      " dense_24 (Dense)            (None, 156)               6240      \n",
      "                                                                 \n",
      " dense_25 (Dense)            (None, 78)                12246     \n",
      "                                                                 \n",
      " dense_26 (Dense)            (None, 39)                3081      \n",
      "                                                                 \n",
      " dropout_6 (Dropout)         (None, 39)                0         \n",
      "                                                                 \n",
      " dense_27 (Dense)            (None, 2)                 80        \n",
      "                                                                 \n",
      "=================================================================\n",
      "Total params: 21,647\n",
      "Trainable params: 21,647\n",
      "Non-trainable params: 0\n",
      "_________________________________________________________________\n"
     ]
    }
   ],
   "source": [
    "model2.summary()"
   ]
  },
  {
   "cell_type": "code",
   "execution_count": 93,
   "id": "2e2ffc5b",
   "metadata": {},
   "outputs": [
    {
     "data": {
      "image/png": "[encoded data removed]",
      "text/plain": [
       "<Figure size 432x288 with 1 Axes>"
      ]
     },
     "metadata": {
      "needs_background": "light"
     },
     "output_type": "display_data"
    }
   ],
   "source": [
    "plt.plot(history2.history['accuracy'])\n",
    "plt.title('model accuracy')\n",
    "plt.ylabel('accuracy')\n",
    "plt.xlabel('epoch')\n",
    "plt.legend(['train', 'val'], loc='upper left')\n",
    "plt.show()"
   ]
  },
  {
   "cell_type": "code",
   "execution_count": 94,
   "id": "55cffe89",
   "metadata": {},
   "outputs": [
    {
     "data": {
      "image/png": "[encoded data removed]",
      "text/plain": [
       "<Figure size 432x288 with 1 Axes>"
      ]
     },
     "metadata": {
      "needs_background": "light"
     },
     "output_type": "display_data"
    }
   ],
   "source": [
    "plt.plot(history2.history['loss'])\n",
    "plt.title('model loss')\n",
    "plt.ylabel('loss')\n",
    "plt.xlabel('epoch')\n",
    "plt.legend(['train', 'val'], loc='upper left')\n",
    "plt.show()"
   ]
  },
  {
   "cell_type": "markdown",
   "id": "e7388a07",
   "metadata": {},
   "source": [
    "### Test Dataset Prediction with Model 2"
   ]
  },
  {
   "cell_type": "code",
   "execution_count": 97,
   "id": "950a279f",
   "metadata": {},
   "outputs": [],
   "source": [
    "encoded_y_pred=model2.predict(X_test)"
   ]
  },
  {
   "cell_type": "code",
   "execution_count": 98,
   "id": "54a6c4db",
   "metadata": {},
   "outputs": [
    {
     "data": {
      "text/plain": [
       "array([[1.0000000e+00, 0.0000000e+00],\n",
       "       [3.5818954e-34, 1.0000000e+00],\n",
       "       [1.3573135e-38, 1.0000000e+00],\n",
       "       ...,\n",
       "       [2.4416161e-07, 9.9999976e-01],\n",
       "       [4.0493524e-09, 1.0000000e+00],\n",
       "       [9.4520100e-11, 1.0000000e+00]], dtype=float32)"
      ]
     },
     "execution_count": 98,
     "metadata": {},
     "output_type": "execute_result"
    }
   ],
   "source": [
    "encoded_y_pred"
   ]
  },
  {
   "cell_type": "code",
   "execution_count": 113,
   "id": "5349c6c8",
   "metadata": {},
   "outputs": [
    {
     "data": {
      "text/html": [
       "<div>\n",
       "<style scoped>\n",
       "    .dataframe tbody tr th:only-of-type {\n",
       "        vertical-align: middle;\n",
       "    }\n",
       "\n",
       "    .dataframe tbody tr th {\n",
       "        vertical-align: top;\n",
       "    }\n",
       "\n",
       "    .dataframe thead th {\n",
       "        text-align: right;\n",
       "    }\n",
       "</style>\n",
       "<table border=\"1\" class=\"dataframe\">\n",
       "  <thead>\n",
       "    <tr style=\"text-align: right;\">\n",
       "      <th></th>\n",
       "      <th>rxbytes_slope</th>\n",
       "      <th>rxpackets_slope</th>\n",
       "      <th>rxerrors_slope</th>\n",
       "      <th>rxdrops_slope</th>\n",
       "      <th>txbytes_slope</th>\n",
       "      <th>txpackets_slope</th>\n",
       "      <th>txerrors_slope</th>\n",
       "      <th>txdrops_slope</th>\n",
       "      <th>timecpu_slope</th>\n",
       "      <th>timesys_slope</th>\n",
       "      <th>...</th>\n",
       "      <th>vdard_req_slope</th>\n",
       "      <th>vdard_bytes_slope</th>\n",
       "      <th>vdawr_reqs_slope</th>\n",
       "      <th>vdawr_bytes_slope</th>\n",
       "      <th>vdaerror_slope</th>\n",
       "      <th>hdard_req_slope</th>\n",
       "      <th>hdard_bytes_slope</th>\n",
       "      <th>hdawr_reqs_slope</th>\n",
       "      <th>hdawr_bytes_slope</th>\n",
       "      <th>hdaerror_slope</th>\n",
       "    </tr>\n",
       "  </thead>\n",
       "  <tbody>\n",
       "  </tbody>\n",
       "</table>\n",
       "<p>0 rows × 39 columns</p>\n",
       "</div>"
      ],
      "text/plain": [
       "Empty DataFrame\n",
       "Columns: [rxbytes_slope, rxpackets_slope, rxerrors_slope, rxdrops_slope, txbytes_slope, txpackets_slope, txerrors_slope, txdrops_slope, timecpu_slope, timesys_slope, timeusr_slope, state_slope, memmax_slope, mem_slope, cpus_slope, cputime_slope, memactual_slope, memswap_in_slope, memswap_out_slope, memmajor_fault_slope, memminor_fault_slope, memunused_slope, memavailable_slope, memusable_slope, memlast_update_slope, memdisk_cache_slope, memhugetlb_pgalloc_slope, memhugetlb_pgfail_slope, memrss_slope, vdard_req_slope, vdard_bytes_slope, vdawr_reqs_slope, vdawr_bytes_slope, vdaerror_slope, hdard_req_slope, hdard_bytes_slope, hdawr_reqs_slope, hdawr_bytes_slope, hdaerror_slope]\n",
       "Index: []\n",
       "\n",
       "[0 rows x 39 columns]"
      ]
     },
     "execution_count": 113,
     "metadata": {},
     "output_type": "execute_result"
    }
   ],
   "source": [
    "X_test[:1]"
   ]
  },
  {
   "cell_type": "markdown",
   "id": "b8c2da21",
   "metadata": {},
   "source": [
    "### Using Model 1 for a single Prediction"
   ]
  },
  {
   "cell_type": "code",
   "execution_count": 117,
   "id": "71bcfeee",
   "metadata": {},
   "outputs": [
    {
     "data": {
      "text/plain": [
       "array([[0.]], dtype=float32)"
      ]
     },
     "execution_count": 117,
     "metadata": {},
     "output_type": "execute_result"
    }
   ],
   "source": [
    "input = np.array(X_test[:1])\n",
    "input = input.reshape(1,39)\n",
    "preds=model.predict(input)\n",
    "preds"
   ]
  },
  {
   "cell_type": "code",
   "execution_count": 118,
   "id": "50300aba",
   "metadata": {},
   "outputs": [
    {
     "name": "stdout",
     "output_type": "stream",
     "text": [
      "PREDICTED: Attack\n"
     ]
    }
   ],
   "source": [
    "print(\"PREDICTED:\", 'Attack' if preds[0][0]<0.5 else 'Normal')"
   ]
  },
  {
   "cell_type": "markdown",
   "id": "65bbe8e1",
   "metadata": {},
   "source": [
    "### Using Model 2 for a single Prediction"
   ]
  },
  {
   "cell_type": "code",
   "execution_count": 119,
   "id": "78f4982a",
   "metadata": {},
   "outputs": [
    {
     "data": {
      "text/plain": [
       "array([[1., 0.]], dtype=float32)"
      ]
     },
     "execution_count": 119,
     "metadata": {},
     "output_type": "execute_result"
    }
   ],
   "source": [
    "input = np.array(X_test[:1])\n",
    "input = input.reshape(1,39)\n",
    "preds=model2.predict(input)\n",
    "preds"
   ]
  },
  {
   "cell_type": "code",
   "execution_count": 120,
   "id": "77491088",
   "metadata": {},
   "outputs": [
    {
     "name": "stdout",
     "output_type": "stream",
     "text": [
      "Model Predicts  100.0 %  Attack\n",
      "Model Predicts 0.0 %  Normal\n"
     ]
    }
   ],
   "source": [
    "print(\"Model Predicts  \" + str(preds[0][0]*100) + \" %  Attack\")\n",
    "print(\"Model Predicts \" + str(preds[0][1]*100) + \" %  Normal\")"
   ]
  },
  {
   "cell_type": "markdown",
   "id": "f838d487",
   "metadata": {},
   "source": [
    "### Dot files and png's for the 2 models"
   ]
  },
  {
   "cell_type": "code",
   "execution_count": 99,
   "id": "895d8834",
   "metadata": {},
   "outputs": [
    {
     "data": {
      "image/png": "[encoded data removed]",
      "text/plain": [
       "<IPython.core.display.Image object>"
      ]
     },
     "execution_count": 99,
     "metadata": {},
     "output_type": "execute_result"
    }
   ],
   "source": [
    "from tensorflow.keras.utils import plot_model\n",
    "plot_model(model, to_file='cloud_forensics_model1.png')"
   ]
  },
  {
   "cell_type": "code",
   "execution_count": 100,
   "id": "5966a022",
   "metadata": {},
   "outputs": [
    {
     "data": {
      "image/png": "[encoded data removed]",
      "text/plain": [
       "<IPython.core.display.Image object>"
      ]
     },
     "execution_count": 100,
     "metadata": {},
     "output_type": "execute_result"
    }
   ],
   "source": [
    "from tensorflow.keras.utils import plot_model\n",
    "plot_model(model2, to_file='cloud_forensics_model2.png')"
   ]
  },
  {
   "cell_type": "code",
   "execution_count": null,
   "id": "ddf21ba9",
   "metadata": {},
   "outputs": [],
   "source": []
  }
 ],
 "metadata": {
  "kernelspec": {
   "display_name": "Python 3 (ipykernel)",
   "language": "python",
   "name": "python3"
  },
  "language_info": {
   "codemirror_mode": {
    "name": "ipython",
    "version": 3
   },
   "file_extension": ".py",
   "mimetype": "text/x-python",
   "name": "python",
   "nbconvert_exporter": "python",
   "pygments_lexer": "ipython3",
   "version": "3.9.7"
  }
 },
 "nbformat": 4,
 "nbformat_minor": 5
}
